{
 "cells": [
  {
   "cell_type": "code",
   "execution_count": 3,
   "metadata": {
    "collapsed": false
   },
   "outputs": [],
   "source": [
    "import numpy as np\n",
    "import pandas as pd\n",
    "import csv\n",
    "from sklearn.feature_extraction import DictVectorizer\n",
    "from scipy.io import loadmat\n",
    "\n",
    "def cQ(X):\n",
    "        returnAr = []\n",
    "        key = np.array((0, 1))\n",
    "        for i in range(X.shape[1]):\n",
    "            returnAr.append(np.all(np.in1d(X[:, i], key)))\n",
    "        return returnAr"
   ]
  },
  {
   "cell_type": "code",
   "execution_count": 400,
   "metadata": {
    "collapsed": false
   },
   "outputs": [],
   "source": [
    "############## Decision Tree Implementation ############\n",
    "class Node:\n",
    "    def __init__(self, j, beta, isLeaf, C, leftChild, rightChild):\n",
    "        self.J = j\n",
    "        self.beta = beta\n",
    "        self.isLeaf = isLeaf\n",
    "        self.C = C\n",
    "        self.leftChild = leftChild\n",
    "        self.rightChild = rightChild\n",
    "    \n",
    "    def predict(self, X):\n",
    "        if self.isLeaf:\n",
    "            return self.C\n",
    "        elif X[self.J] < self.beta:\n",
    "            return self.leftChild.predict(X)\n",
    "        else:\n",
    "            return self.rightChild.predict(X)\n",
    "\n",
    "class Tree:\n",
    "    def __init__(self, X, y, randomSubset, catQuant = None, max_depth = 30):\n",
    "        self.y = y\n",
    "        self.X = X\n",
    "        if catQuant is None:\n",
    "            self.catQuant = self.cQ(self.X)\n",
    "        else:\n",
    "            self.catQuant = catQuant\n",
    "        self.subset = randomSubset\n",
    "        self.max_depth = max_depth\n",
    "        self.root = self.growTree(X, y, self.catQuant, self.subset, max_depth, 0)\n",
    "        \n",
    "    def growTree(self, X, y, catQuant, randomSubset, max_depth, curr_depth):\n",
    "        if np.isnan(np.mean(y)):\n",
    "            print('error A')\n",
    "            return \n",
    "        if curr_depth == max_depth or np.mean(y) > 0.95 or np.mean(y) < 0.05:\n",
    "            return Node(None, None, True, np.rint(np.mean(y)), None, None) #returns a leaf\n",
    "        else:\n",
    "            j, beta = self.findSplit(X, y, catQuant, randomSubset)\n",
    "            SlX, SlY, SrX, SrY = self.split(X, y, j, beta)\n",
    "            return Node(j, beta, False, np.rint(np.mean(y)), self.growTree(SlX, SlY, catQuant, randomSubset, max_depth, curr_depth + 1), self.growTree(SrX, SrY, catQuant, randomSubset, max_depth, curr_depth + 1))\n",
    "    \n",
    "    def findSplit(self, X, y, catQuant, randomSubset = False):\n",
    "        minCost = None\n",
    "        j = None\n",
    "        beta = None\n",
    "        subset = []\n",
    "        if not randomSubset:\n",
    "            subset = range(X.shape[1])\n",
    "        else:\n",
    "            subset = list(np.random.choice(X.shape[1], np.rint(np.sqrt(X.shape[1]), replace = False)))\n",
    "        \n",
    "        for i in subset:\n",
    "            if catQuant[i]: # if categorical variable\n",
    "                cost = self.J(X, y, i, 0.5)\n",
    "                if minCost == None or cost < minCost:\n",
    "                    j = i\n",
    "                    beta = 0.5\n",
    "                    minCost = cost\n",
    "            else:\n",
    "                sortedOrder = X[:,i].argsort()\n",
    "                sortedX = X[sortedOrder, i]\n",
    "                sortedY = y[sortedOrder]\n",
    "                # Sorting complete. Now to initialize the O(n) search for the best split\n",
    "                totalObs = X.shape[0]\n",
    "                if np.isnan(np.mean(y)):\n",
    "                    print('error B')\n",
    "                    return\n",
    "                total1 = np.mean(y) * totalObs\n",
    "                total0 = totalObs - total1\n",
    "                \n",
    "                # Initializing\n",
    "                if sortedY[0] == 1:\n",
    "                    Lcat0 = 0\n",
    "                    Lcat1 = 1\n",
    "                    Rcat0 = total0\n",
    "                    Rcat1 = total1 - 1\n",
    "                else:\n",
    "                    Lcat0 = 1\n",
    "                    Lcat1 = 0\n",
    "                    Rcat0 = total0 - 1\n",
    "                    Rcat1 = total1\n",
    "                    \n",
    "                bestCostForThisCat = self.J_fast(Lcat0, Lcat1, Rcat0, Rcat1)\n",
    "                bestSplitForThisCat = sortedX[0]\n",
    "\n",
    "                for k in range(1, totalObs - 1):\n",
    "                    if sortedY[k] == 1:\n",
    "                        Lcat1 = Lcat1 + 1\n",
    "                        Rcat1 = Rcat1 - 1\n",
    "                    else:\n",
    "                        Lcat0 = Lcat0 + 1\n",
    "                        Rcat0 = Rcat0 - 1\n",
    "                    testcost = self.J_fast(Lcat0, Lcat1, Rcat0, Rcat1)\n",
    "                    if testcost < bestCostForThisCat:\n",
    "                        bestCostForThisCat = testcost\n",
    "                        bestSplitForThisCat = sortedX[k]\n",
    "                \n",
    "                if minCost == None or bestCostForThisCat < minCost:\n",
    "                    j = i\n",
    "                    beta = bestSplitForThisCat\n",
    "                    minCost = bestCostForThisCat\n",
    "        \n",
    "#         print(j, beta)\n",
    "#         _, sly, _, sry = (self.split(X, y, j, beta))\n",
    "#         print(sly, sry)\n",
    "        return j, beta\n",
    "\n",
    "    \n",
    "    def J(self, X, y, j, beta): # returns cost\n",
    "        SlX, SlY, SrX, SrY = self.split(X, y, j, beta)\n",
    "        a = SlX.shape[0] * self.H(SlY)\n",
    "        b = SrX.shape[0] * self.H(SrY)\n",
    "        c = SlX.shape[0] + SrX.shape[0]\n",
    "        return (a + b) / c\n",
    "    \n",
    "    def H(self, y): # returns H\n",
    "        if len(y) == 0:\n",
    "            return 0\n",
    "        p1 = np.mean(y)\n",
    "        p0 = 1 - p1\n",
    "        return -((p0 * np.log2(p0)) + (p1 * np.log2(p1)))\n",
    "    \n",
    "    def J_fast(self, l0, l1, r0, r1): # returns faster cost\n",
    "        a = (l0 + l1) * self.H_fast(l0, l1)\n",
    "        b = (r0 + r1) * self.H_fast(r0, r1)\n",
    "        c = l0 + l1 + r0 + r1\n",
    "        return (a + b) / c\n",
    "    \n",
    "    \n",
    "    def H_fast(self, y0, y1):\n",
    "        if y0 == 0 and y1 == 0:\n",
    "            print ('error')\n",
    "            return\n",
    "        if y0 == 0:\n",
    "            return -(1 * np.log2(1))\n",
    "        if y1 == 0:\n",
    "            return -(1 * np.log2(1))\n",
    "            \n",
    "        tot = y0 + y1\n",
    "        p1 = y1/tot\n",
    "        p0 = y0/tot\n",
    "        return -((p0 * np.log2(p0)) + (p1 * np.log2(p1)))\n",
    "    \n",
    "    def cQ(self, X):\n",
    "        returnAr = []\n",
    "        key = np.array((0, 1))\n",
    "        for i in range(X.shape[1]):\n",
    "            returnAr.append(np.all(np.in1d(X[:, i], key)))\n",
    "        return returnAr\n",
    "    \n",
    "    def split(self, X, y, j, beta): # Splits X into Sl and Sr based on j and beta\n",
    "        SlX = []\n",
    "        SlY = []\n",
    "        SrX = []\n",
    "        SrY = []\n",
    "        for n in range(X.shape[0]):\n",
    "            if X[n, j] <= beta:\n",
    "                SlY.append(n)\n",
    "                SlX.append(n)\n",
    "            else:\n",
    "                SrY.append(n)\n",
    "                SrX.append(n)\n",
    "        return X[SlX, :], y[SlY], X[SrX, :], y[SrY]\n",
    "    \n",
    "    def predict(self, X):\n",
    "        return self.root.predict(X)\n",
    "        \n",
    "############ End Decision Trees #########"
   ]
  },
  {
   "cell_type": "code",
   "execution_count": 300,
   "metadata": {
    "collapsed": false
   },
   "outputs": [],
   "source": [
    "############ Start Random Forest ########\n",
    "class Forest:\n",
    "    def __init__(self, X, y, numTrees, max_depth):\n",
    "        self.X = X\n",
    "        self.y = y\n",
    "        self.numTrees = numTrees\n",
    "        self.catQuant = self.cQ(X)\n",
    "        self.forest = self.growForest(X, y, self.numTrees, self.catQuant, max_depth)\n",
    "        \n",
    "    def growForest(self, X, y, numTrees, catQuant, max_depth): # Returns forest as list of trees\n",
    "        forest = []\n",
    "        for i in range(numTrees):\n",
    "            subset = X[np.random.choice(X.shape[0], X.shape[0], replace = True),:]\n",
    "            tree = Tree(subset, y, True, catQuant, max_depth[i])\n",
    "            forest.append(tree)\n",
    "        return forest\n",
    "    \n",
    "    def predict(self, X):\n",
    "        prediction = []\n",
    "        for i in range(numTrees):\n",
    "            prediction.append(forest[i].predict(X))\n",
    "        return np.rint(np.mean(prediction))\n",
    "            \n",
    "    def cQ(self, X):\n",
    "        returnAr = []\n",
    "        key = np.array((0, 1))\n",
    "        for i in range(X.shape[1]):\n",
    "            returnAr.append(np.all(np.in1d(X[:, i], key)))\n",
    "        return returnAr\n",
    "    \n",
    "############ End Random Forest ##########"
   ]
  },
  {
   "cell_type": "code",
   "execution_count": 4,
   "metadata": {
    "collapsed": false
   },
   "outputs": [],
   "source": [
    "######### Preprocessing function ########\n",
    "\n",
    "# Finds mode, returns as dict\n",
    "def modeFinder(file):\n",
    "    mode = {}\n",
    "    df = pd.read_csv(file)\n",
    "    for col in df:\n",
    "        x = df[col]\n",
    "        mode[col] = x.value_counts().index[0]\n",
    "    return mode\n"
   ]
  },
  {
   "cell_type": "code",
   "execution_count": 13,
   "metadata": {
    "collapsed": false
   },
   "outputs": [
    {
     "name": "stdout",
     "output_type": "stream",
     "text": [
      "{'capital-loss': '0', 'age': '59', 'label': '0', 'capital-gain': '0', 'sex': 'Male', 'marital-status': 'Never-married', 'education-num': '5', 'hours-per-week': '50', 'race': 'Black', 'fnlwgt': '307423', 'occupation': 'Other-service', 'workclass': 'Private', 'relationship': 'Not-in-family', 'education': '9th', 'native-country': 'United-States'}\n"
     ]
    }
   ],
   "source": [
    "# Census Cleaning\n",
    "\n",
    "with open('hw5_census_dist/train_data.csv') as f:\n",
    "    reader = csv.DictReader(f)\n",
    "    rows = list(reader)\n",
    "print(rows[0])\n",
    "\n",
    "census_categorical = ['workclass', 'education', 'marital-status', 'occupation', 'relationship', 'race', 'sex', 'native-country']\n",
    "census_continuous = ['fnlwgt', 'education-num', 'capital-gain', 'hours-per-week', 'age', 'capital-loss']\n",
    "y = []\n",
    "\n",
    "# Mode finder\n",
    "mode = modeFinder('hw5_census_dist/train_data.csv')\n",
    "\n",
    "for row in rows:\n",
    "    for key, value in row.items():\n",
    "        if value is \"?\":\n",
    "            row[key] = mode[key]\n",
    "    for label in census_continuous:\n",
    "        row[label] = float(row[label])\n",
    "    y.append(row.get('label'))\n",
    "    del row['label']\n",
    "    \n",
    "\n",
    "vec = DictVectorizer(dtype = int)\n",
    "X = vec.fit_transform(rows).toarray()\n",
    "cols = vec.get_feature_names()\n",
    "y = np.asmatrix(y)\n",
    "\n",
    "census = np.array(np.concatenate((X, y.T), axis=1), dtype = int)\n",
    "np.random.shuffle(census)\n",
    "trainX = census[:28000, :105]\n",
    "trainY = census[:28000, 105]\n",
    "validX = census[28000:, :105]\n",
    "validY = census[28000:, 105]"
   ]
  },
  {
   "cell_type": "code",
   "execution_count": 16,
   "metadata": {
    "collapsed": false
   },
   "outputs": [
    {
     "data": {
      "text/plain": [
       "dict"
      ]
     },
     "execution_count": 16,
     "metadata": {},
     "output_type": "execute_result"
    }
   ],
   "source": [
    "type(rows[0])"
   ]
  },
  {
   "cell_type": "code",
   "execution_count": 401,
   "metadata": {
    "collapsed": false,
    "scrolled": false
   },
   "outputs": [
    {
     "name": "stdout",
     "output_type": "stream",
     "text": [
      "terr\n",
      "4382.0\n"
     ]
    },
    {
     "name": "stderr",
     "output_type": "stream",
     "text": [
      "/Users/Paul/anaconda/lib/python3.5/site-packages/numpy/core/_methods.py:59: RuntimeWarning: Mean of empty slice.\n",
      "  warnings.warn(\"Mean of empty slice.\", RuntimeWarning)\n"
     ]
    },
    {
     "name": "stdout",
     "output_type": "stream",
     "text": [
      "error A\n",
      "error A\n",
      "error A\n",
      "error A\n",
      "error A\n",
      "error A\n",
      "error A\n",
      "error A\n",
      "error A\n",
      "error A\n",
      "error A\n",
      "error A\n",
      "error A\n",
      "error A\n",
      "error A\n",
      "error A\n",
      "error A\n",
      "error A\n",
      "error A\n",
      "error A\n",
      "error A\n",
      "error A\n",
      "error A\n",
      "error A\n",
      "error A\n",
      "error A\n",
      "error A\n",
      "error A\n",
      "error A\n",
      "error A\n"
     ]
    },
    {
     "ename": "AttributeError",
     "evalue": "'NoneType' object has no attribute 'predict'",
     "output_type": "error",
     "traceback": [
      "\u001b[0;31m---------------------------------------------------------------------------\u001b[0m",
      "\u001b[0;31mAttributeError\u001b[0m                            Traceback (most recent call last)",
      "\u001b[0;32m<ipython-input-401-89f9453a9227>\u001b[0m in \u001b[0;36m<module>\u001b[0;34m()\u001b[0m\n\u001b[1;32m     11\u001b[0m     \u001b[0mtree\u001b[0m \u001b[0;34m=\u001b[0m \u001b[0mTree\u001b[0m\u001b[0;34m(\u001b[0m\u001b[0mtrainX\u001b[0m\u001b[0;34m,\u001b[0m \u001b[0mtrainY\u001b[0m\u001b[0;34m,\u001b[0m \u001b[0;32mFalse\u001b[0m\u001b[0;34m,\u001b[0m \u001b[0mmax_depth\u001b[0m \u001b[0;34m=\u001b[0m \u001b[0mi\u001b[0m\u001b[0;34m)\u001b[0m\u001b[0;34m\u001b[0m\u001b[0m\n\u001b[1;32m     12\u001b[0m     \u001b[0;32mfor\u001b[0m \u001b[0mi\u001b[0m \u001b[0;32min\u001b[0m \u001b[0mrange\u001b[0m\u001b[0;34m(\u001b[0m\u001b[0mtrainX\u001b[0m\u001b[0;34m.\u001b[0m\u001b[0mshape\u001b[0m\u001b[0;34m[\u001b[0m\u001b[0;36m0\u001b[0m\u001b[0;34m]\u001b[0m\u001b[0;34m)\u001b[0m\u001b[0;34m:\u001b[0m\u001b[0;34m\u001b[0m\u001b[0m\n\u001b[0;32m---> 13\u001b[0;31m         \u001b[0mterr\u001b[0m \u001b[0;34m=\u001b[0m \u001b[0mterr\u001b[0m \u001b[0;34m+\u001b[0m \u001b[0mnp\u001b[0m\u001b[0;34m.\u001b[0m\u001b[0msum\u001b[0m\u001b[0;34m(\u001b[0m\u001b[0mnp\u001b[0m\u001b[0;34m.\u001b[0m\u001b[0msquare\u001b[0m\u001b[0;34m(\u001b[0m\u001b[0mtree\u001b[0m\u001b[0;34m.\u001b[0m\u001b[0mpredict\u001b[0m\u001b[0;34m(\u001b[0m\u001b[0mtrainX\u001b[0m\u001b[0;34m[\u001b[0m\u001b[0mi\u001b[0m\u001b[0;34m]\u001b[0m\u001b[0;34m)\u001b[0m \u001b[0;34m-\u001b[0m \u001b[0mtrainY\u001b[0m\u001b[0;34m[\u001b[0m\u001b[0mi\u001b[0m\u001b[0;34m]\u001b[0m\u001b[0;34m)\u001b[0m\u001b[0;34m)\u001b[0m\u001b[0;34m\u001b[0m\u001b[0m\n\u001b[0m\u001b[1;32m     14\u001b[0m     \u001b[0mprint\u001b[0m\u001b[0;34m(\u001b[0m\u001b[0;34m'terr'\u001b[0m\u001b[0;34m)\u001b[0m\u001b[0;34m\u001b[0m\u001b[0m\n\u001b[1;32m     15\u001b[0m     \u001b[0mprint\u001b[0m\u001b[0;34m(\u001b[0m\u001b[0mterr\u001b[0m\u001b[0;34m)\u001b[0m\u001b[0;34m\u001b[0m\u001b[0m\n",
      "\u001b[0;32m<ipython-input-400-2ac4866214c8>\u001b[0m in \u001b[0;36mpredict\u001b[0;34m(self, X)\u001b[0m\n\u001b[1;32m    164\u001b[0m \u001b[0;34m\u001b[0m\u001b[0m\n\u001b[1;32m    165\u001b[0m     \u001b[0;32mdef\u001b[0m \u001b[0mpredict\u001b[0m\u001b[0;34m(\u001b[0m\u001b[0mself\u001b[0m\u001b[0;34m,\u001b[0m \u001b[0mX\u001b[0m\u001b[0;34m)\u001b[0m\u001b[0;34m:\u001b[0m\u001b[0;34m\u001b[0m\u001b[0m\n\u001b[0;32m--> 166\u001b[0;31m         \u001b[0;32mreturn\u001b[0m \u001b[0mself\u001b[0m\u001b[0;34m.\u001b[0m\u001b[0mroot\u001b[0m\u001b[0;34m.\u001b[0m\u001b[0mpredict\u001b[0m\u001b[0;34m(\u001b[0m\u001b[0mX\u001b[0m\u001b[0;34m)\u001b[0m\u001b[0;34m\u001b[0m\u001b[0m\n\u001b[0m\u001b[1;32m    167\u001b[0m \u001b[0;34m\u001b[0m\u001b[0m\n\u001b[1;32m    168\u001b[0m \u001b[0;31m############ End Decision Trees #########\u001b[0m\u001b[0;34m\u001b[0m\u001b[0;34m\u001b[0m\u001b[0m\n",
      "\u001b[0;32m<ipython-input-400-2ac4866214c8>\u001b[0m in \u001b[0;36mpredict\u001b[0;34m(self, X)\u001b[0m\n\u001b[1;32m     15\u001b[0m             \u001b[0;32mreturn\u001b[0m \u001b[0mself\u001b[0m\u001b[0;34m.\u001b[0m\u001b[0mleftChild\u001b[0m\u001b[0;34m.\u001b[0m\u001b[0mpredict\u001b[0m\u001b[0;34m(\u001b[0m\u001b[0mX\u001b[0m\u001b[0;34m)\u001b[0m\u001b[0;34m\u001b[0m\u001b[0m\n\u001b[1;32m     16\u001b[0m         \u001b[0;32melse\u001b[0m\u001b[0;34m:\u001b[0m\u001b[0;34m\u001b[0m\u001b[0m\n\u001b[0;32m---> 17\u001b[0;31m             \u001b[0;32mreturn\u001b[0m \u001b[0mself\u001b[0m\u001b[0;34m.\u001b[0m\u001b[0mrightChild\u001b[0m\u001b[0;34m.\u001b[0m\u001b[0mpredict\u001b[0m\u001b[0;34m(\u001b[0m\u001b[0mX\u001b[0m\u001b[0;34m)\u001b[0m\u001b[0;34m\u001b[0m\u001b[0m\n\u001b[0m\u001b[1;32m     18\u001b[0m \u001b[0;34m\u001b[0m\u001b[0m\n\u001b[1;32m     19\u001b[0m \u001b[0;32mclass\u001b[0m \u001b[0mTree\u001b[0m\u001b[0;34m:\u001b[0m\u001b[0;34m\u001b[0m\u001b[0m\n",
      "\u001b[0;32m<ipython-input-400-2ac4866214c8>\u001b[0m in \u001b[0;36mpredict\u001b[0;34m(self, X)\u001b[0m\n\u001b[1;32m     13\u001b[0m             \u001b[0;32mreturn\u001b[0m \u001b[0mself\u001b[0m\u001b[0;34m.\u001b[0m\u001b[0mC\u001b[0m\u001b[0;34m\u001b[0m\u001b[0m\n\u001b[1;32m     14\u001b[0m         \u001b[0;32melif\u001b[0m \u001b[0mX\u001b[0m\u001b[0;34m[\u001b[0m\u001b[0mself\u001b[0m\u001b[0;34m.\u001b[0m\u001b[0mJ\u001b[0m\u001b[0;34m]\u001b[0m \u001b[0;34m<\u001b[0m \u001b[0mself\u001b[0m\u001b[0;34m.\u001b[0m\u001b[0mbeta\u001b[0m\u001b[0;34m:\u001b[0m\u001b[0;34m\u001b[0m\u001b[0m\n\u001b[0;32m---> 15\u001b[0;31m             \u001b[0;32mreturn\u001b[0m \u001b[0mself\u001b[0m\u001b[0;34m.\u001b[0m\u001b[0mleftChild\u001b[0m\u001b[0;34m.\u001b[0m\u001b[0mpredict\u001b[0m\u001b[0;34m(\u001b[0m\u001b[0mX\u001b[0m\u001b[0;34m)\u001b[0m\u001b[0;34m\u001b[0m\u001b[0m\n\u001b[0m\u001b[1;32m     16\u001b[0m         \u001b[0;32melse\u001b[0m\u001b[0;34m:\u001b[0m\u001b[0;34m\u001b[0m\u001b[0m\n\u001b[1;32m     17\u001b[0m             \u001b[0;32mreturn\u001b[0m \u001b[0mself\u001b[0m\u001b[0;34m.\u001b[0m\u001b[0mrightChild\u001b[0m\u001b[0;34m.\u001b[0m\u001b[0mpredict\u001b[0m\u001b[0;34m(\u001b[0m\u001b[0mX\u001b[0m\u001b[0;34m)\u001b[0m\u001b[0;34m\u001b[0m\u001b[0m\n",
      "\u001b[0;32m<ipython-input-400-2ac4866214c8>\u001b[0m in \u001b[0;36mpredict\u001b[0;34m(self, X)\u001b[0m\n\u001b[1;32m     13\u001b[0m             \u001b[0;32mreturn\u001b[0m \u001b[0mself\u001b[0m\u001b[0;34m.\u001b[0m\u001b[0mC\u001b[0m\u001b[0;34m\u001b[0m\u001b[0m\n\u001b[1;32m     14\u001b[0m         \u001b[0;32melif\u001b[0m \u001b[0mX\u001b[0m\u001b[0;34m[\u001b[0m\u001b[0mself\u001b[0m\u001b[0;34m.\u001b[0m\u001b[0mJ\u001b[0m\u001b[0;34m]\u001b[0m \u001b[0;34m<\u001b[0m \u001b[0mself\u001b[0m\u001b[0;34m.\u001b[0m\u001b[0mbeta\u001b[0m\u001b[0;34m:\u001b[0m\u001b[0;34m\u001b[0m\u001b[0m\n\u001b[0;32m---> 15\u001b[0;31m             \u001b[0;32mreturn\u001b[0m \u001b[0mself\u001b[0m\u001b[0;34m.\u001b[0m\u001b[0mleftChild\u001b[0m\u001b[0;34m.\u001b[0m\u001b[0mpredict\u001b[0m\u001b[0;34m(\u001b[0m\u001b[0mX\u001b[0m\u001b[0;34m)\u001b[0m\u001b[0;34m\u001b[0m\u001b[0m\n\u001b[0m\u001b[1;32m     16\u001b[0m         \u001b[0;32melse\u001b[0m\u001b[0;34m:\u001b[0m\u001b[0;34m\u001b[0m\u001b[0m\n\u001b[1;32m     17\u001b[0m             \u001b[0;32mreturn\u001b[0m \u001b[0mself\u001b[0m\u001b[0;34m.\u001b[0m\u001b[0mrightChild\u001b[0m\u001b[0;34m.\u001b[0m\u001b[0mpredict\u001b[0m\u001b[0;34m(\u001b[0m\u001b[0mX\u001b[0m\u001b[0;34m)\u001b[0m\u001b[0;34m\u001b[0m\u001b[0m\n",
      "\u001b[0;32m<ipython-input-400-2ac4866214c8>\u001b[0m in \u001b[0;36mpredict\u001b[0;34m(self, X)\u001b[0m\n\u001b[1;32m     13\u001b[0m             \u001b[0;32mreturn\u001b[0m \u001b[0mself\u001b[0m\u001b[0;34m.\u001b[0m\u001b[0mC\u001b[0m\u001b[0;34m\u001b[0m\u001b[0m\n\u001b[1;32m     14\u001b[0m         \u001b[0;32melif\u001b[0m \u001b[0mX\u001b[0m\u001b[0;34m[\u001b[0m\u001b[0mself\u001b[0m\u001b[0;34m.\u001b[0m\u001b[0mJ\u001b[0m\u001b[0;34m]\u001b[0m \u001b[0;34m<\u001b[0m \u001b[0mself\u001b[0m\u001b[0;34m.\u001b[0m\u001b[0mbeta\u001b[0m\u001b[0;34m:\u001b[0m\u001b[0;34m\u001b[0m\u001b[0m\n\u001b[0;32m---> 15\u001b[0;31m             \u001b[0;32mreturn\u001b[0m \u001b[0mself\u001b[0m\u001b[0;34m.\u001b[0m\u001b[0mleftChild\u001b[0m\u001b[0;34m.\u001b[0m\u001b[0mpredict\u001b[0m\u001b[0;34m(\u001b[0m\u001b[0mX\u001b[0m\u001b[0;34m)\u001b[0m\u001b[0;34m\u001b[0m\u001b[0m\n\u001b[0m\u001b[1;32m     16\u001b[0m         \u001b[0;32melse\u001b[0m\u001b[0;34m:\u001b[0m\u001b[0;34m\u001b[0m\u001b[0m\n\u001b[1;32m     17\u001b[0m             \u001b[0;32mreturn\u001b[0m \u001b[0mself\u001b[0m\u001b[0;34m.\u001b[0m\u001b[0mrightChild\u001b[0m\u001b[0;34m.\u001b[0m\u001b[0mpredict\u001b[0m\u001b[0;34m(\u001b[0m\u001b[0mX\u001b[0m\u001b[0;34m)\u001b[0m\u001b[0;34m\u001b[0m\u001b[0m\n",
      "\u001b[0;32m<ipython-input-400-2ac4866214c8>\u001b[0m in \u001b[0;36mpredict\u001b[0;34m(self, X)\u001b[0m\n\u001b[1;32m     15\u001b[0m             \u001b[0;32mreturn\u001b[0m \u001b[0mself\u001b[0m\u001b[0;34m.\u001b[0m\u001b[0mleftChild\u001b[0m\u001b[0;34m.\u001b[0m\u001b[0mpredict\u001b[0m\u001b[0;34m(\u001b[0m\u001b[0mX\u001b[0m\u001b[0;34m)\u001b[0m\u001b[0;34m\u001b[0m\u001b[0m\n\u001b[1;32m     16\u001b[0m         \u001b[0;32melse\u001b[0m\u001b[0;34m:\u001b[0m\u001b[0;34m\u001b[0m\u001b[0m\n\u001b[0;32m---> 17\u001b[0;31m             \u001b[0;32mreturn\u001b[0m \u001b[0mself\u001b[0m\u001b[0;34m.\u001b[0m\u001b[0mrightChild\u001b[0m\u001b[0;34m.\u001b[0m\u001b[0mpredict\u001b[0m\u001b[0;34m(\u001b[0m\u001b[0mX\u001b[0m\u001b[0;34m)\u001b[0m\u001b[0;34m\u001b[0m\u001b[0m\n\u001b[0m\u001b[1;32m     18\u001b[0m \u001b[0;34m\u001b[0m\u001b[0m\n\u001b[1;32m     19\u001b[0m \u001b[0;32mclass\u001b[0m \u001b[0mTree\u001b[0m\u001b[0;34m:\u001b[0m\u001b[0;34m\u001b[0m\u001b[0m\n",
      "\u001b[0;32m<ipython-input-400-2ac4866214c8>\u001b[0m in \u001b[0;36mpredict\u001b[0;34m(self, X)\u001b[0m\n\u001b[1;32m     15\u001b[0m             \u001b[0;32mreturn\u001b[0m \u001b[0mself\u001b[0m\u001b[0;34m.\u001b[0m\u001b[0mleftChild\u001b[0m\u001b[0;34m.\u001b[0m\u001b[0mpredict\u001b[0m\u001b[0;34m(\u001b[0m\u001b[0mX\u001b[0m\u001b[0;34m)\u001b[0m\u001b[0;34m\u001b[0m\u001b[0m\n\u001b[1;32m     16\u001b[0m         \u001b[0;32melse\u001b[0m\u001b[0;34m:\u001b[0m\u001b[0;34m\u001b[0m\u001b[0m\n\u001b[0;32m---> 17\u001b[0;31m             \u001b[0;32mreturn\u001b[0m \u001b[0mself\u001b[0m\u001b[0;34m.\u001b[0m\u001b[0mrightChild\u001b[0m\u001b[0;34m.\u001b[0m\u001b[0mpredict\u001b[0m\u001b[0;34m(\u001b[0m\u001b[0mX\u001b[0m\u001b[0;34m)\u001b[0m\u001b[0;34m\u001b[0m\u001b[0m\n\u001b[0m\u001b[1;32m     18\u001b[0m \u001b[0;34m\u001b[0m\u001b[0m\n\u001b[1;32m     19\u001b[0m \u001b[0;32mclass\u001b[0m \u001b[0mTree\u001b[0m\u001b[0;34m:\u001b[0m\u001b[0;34m\u001b[0m\u001b[0m\n",
      "\u001b[0;32m<ipython-input-400-2ac4866214c8>\u001b[0m in \u001b[0;36mpredict\u001b[0;34m(self, X)\u001b[0m\n\u001b[1;32m     13\u001b[0m             \u001b[0;32mreturn\u001b[0m \u001b[0mself\u001b[0m\u001b[0;34m.\u001b[0m\u001b[0mC\u001b[0m\u001b[0;34m\u001b[0m\u001b[0m\n\u001b[1;32m     14\u001b[0m         \u001b[0;32melif\u001b[0m \u001b[0mX\u001b[0m\u001b[0;34m[\u001b[0m\u001b[0mself\u001b[0m\u001b[0;34m.\u001b[0m\u001b[0mJ\u001b[0m\u001b[0;34m]\u001b[0m \u001b[0;34m<\u001b[0m \u001b[0mself\u001b[0m\u001b[0;34m.\u001b[0m\u001b[0mbeta\u001b[0m\u001b[0;34m:\u001b[0m\u001b[0;34m\u001b[0m\u001b[0m\n\u001b[0;32m---> 15\u001b[0;31m             \u001b[0;32mreturn\u001b[0m \u001b[0mself\u001b[0m\u001b[0;34m.\u001b[0m\u001b[0mleftChild\u001b[0m\u001b[0;34m.\u001b[0m\u001b[0mpredict\u001b[0m\u001b[0;34m(\u001b[0m\u001b[0mX\u001b[0m\u001b[0;34m)\u001b[0m\u001b[0;34m\u001b[0m\u001b[0m\n\u001b[0m\u001b[1;32m     16\u001b[0m         \u001b[0;32melse\u001b[0m\u001b[0;34m:\u001b[0m\u001b[0;34m\u001b[0m\u001b[0m\n\u001b[1;32m     17\u001b[0m             \u001b[0;32mreturn\u001b[0m \u001b[0mself\u001b[0m\u001b[0;34m.\u001b[0m\u001b[0mrightChild\u001b[0m\u001b[0;34m.\u001b[0m\u001b[0mpredict\u001b[0m\u001b[0;34m(\u001b[0m\u001b[0mX\u001b[0m\u001b[0;34m)\u001b[0m\u001b[0;34m\u001b[0m\u001b[0m\n",
      "\u001b[0;32m<ipython-input-400-2ac4866214c8>\u001b[0m in \u001b[0;36mpredict\u001b[0;34m(self, X)\u001b[0m\n\u001b[1;32m     15\u001b[0m             \u001b[0;32mreturn\u001b[0m \u001b[0mself\u001b[0m\u001b[0;34m.\u001b[0m\u001b[0mleftChild\u001b[0m\u001b[0;34m.\u001b[0m\u001b[0mpredict\u001b[0m\u001b[0;34m(\u001b[0m\u001b[0mX\u001b[0m\u001b[0;34m)\u001b[0m\u001b[0;34m\u001b[0m\u001b[0m\n\u001b[1;32m     16\u001b[0m         \u001b[0;32melse\u001b[0m\u001b[0;34m:\u001b[0m\u001b[0;34m\u001b[0m\u001b[0m\n\u001b[0;32m---> 17\u001b[0;31m             \u001b[0;32mreturn\u001b[0m \u001b[0mself\u001b[0m\u001b[0;34m.\u001b[0m\u001b[0mrightChild\u001b[0m\u001b[0;34m.\u001b[0m\u001b[0mpredict\u001b[0m\u001b[0;34m(\u001b[0m\u001b[0mX\u001b[0m\u001b[0;34m)\u001b[0m\u001b[0;34m\u001b[0m\u001b[0m\n\u001b[0m\u001b[1;32m     18\u001b[0m \u001b[0;34m\u001b[0m\u001b[0m\n\u001b[1;32m     19\u001b[0m \u001b[0;32mclass\u001b[0m \u001b[0mTree\u001b[0m\u001b[0;34m:\u001b[0m\u001b[0;34m\u001b[0m\u001b[0m\n",
      "\u001b[0;32m<ipython-input-400-2ac4866214c8>\u001b[0m in \u001b[0;36mpredict\u001b[0;34m(self, X)\u001b[0m\n\u001b[1;32m     15\u001b[0m             \u001b[0;32mreturn\u001b[0m \u001b[0mself\u001b[0m\u001b[0;34m.\u001b[0m\u001b[0mleftChild\u001b[0m\u001b[0;34m.\u001b[0m\u001b[0mpredict\u001b[0m\u001b[0;34m(\u001b[0m\u001b[0mX\u001b[0m\u001b[0;34m)\u001b[0m\u001b[0;34m\u001b[0m\u001b[0m\n\u001b[1;32m     16\u001b[0m         \u001b[0;32melse\u001b[0m\u001b[0;34m:\u001b[0m\u001b[0;34m\u001b[0m\u001b[0m\n\u001b[0;32m---> 17\u001b[0;31m             \u001b[0;32mreturn\u001b[0m \u001b[0mself\u001b[0m\u001b[0;34m.\u001b[0m\u001b[0mrightChild\u001b[0m\u001b[0;34m.\u001b[0m\u001b[0mpredict\u001b[0m\u001b[0;34m(\u001b[0m\u001b[0mX\u001b[0m\u001b[0;34m)\u001b[0m\u001b[0;34m\u001b[0m\u001b[0m\n\u001b[0m\u001b[1;32m     18\u001b[0m \u001b[0;34m\u001b[0m\u001b[0m\n\u001b[1;32m     19\u001b[0m \u001b[0;32mclass\u001b[0m \u001b[0mTree\u001b[0m\u001b[0;34m:\u001b[0m\u001b[0;34m\u001b[0m\u001b[0m\n",
      "\u001b[0;32m<ipython-input-400-2ac4866214c8>\u001b[0m in \u001b[0;36mpredict\u001b[0;34m(self, X)\u001b[0m\n\u001b[1;32m     15\u001b[0m             \u001b[0;32mreturn\u001b[0m \u001b[0mself\u001b[0m\u001b[0;34m.\u001b[0m\u001b[0mleftChild\u001b[0m\u001b[0;34m.\u001b[0m\u001b[0mpredict\u001b[0m\u001b[0;34m(\u001b[0m\u001b[0mX\u001b[0m\u001b[0;34m)\u001b[0m\u001b[0;34m\u001b[0m\u001b[0m\n\u001b[1;32m     16\u001b[0m         \u001b[0;32melse\u001b[0m\u001b[0;34m:\u001b[0m\u001b[0;34m\u001b[0m\u001b[0m\n\u001b[0;32m---> 17\u001b[0;31m             \u001b[0;32mreturn\u001b[0m \u001b[0mself\u001b[0m\u001b[0;34m.\u001b[0m\u001b[0mrightChild\u001b[0m\u001b[0;34m.\u001b[0m\u001b[0mpredict\u001b[0m\u001b[0;34m(\u001b[0m\u001b[0mX\u001b[0m\u001b[0;34m)\u001b[0m\u001b[0;34m\u001b[0m\u001b[0m\n\u001b[0m\u001b[1;32m     18\u001b[0m \u001b[0;34m\u001b[0m\u001b[0m\n\u001b[1;32m     19\u001b[0m \u001b[0;32mclass\u001b[0m \u001b[0mTree\u001b[0m\u001b[0;34m:\u001b[0m\u001b[0;34m\u001b[0m\u001b[0m\n",
      "\u001b[0;31mAttributeError\u001b[0m: 'NoneType' object has no attribute 'predict'"
     ]
    }
   ],
   "source": [
    "# Census q4\n",
    "\n",
    "# Trying various tree max_depths\n",
    "max_depths = [5, 10, 15, 20, 25, 30, 35, 40]\n",
    "train_error = []\n",
    "valid_error = []\n",
    "\n",
    "for i in max_depths:\n",
    "    terr = 0\n",
    "    verr = 0\n",
    "    tree = Tree(trainX, trainY, False, max_depth = i)\n",
    "    for i in range(trainX.shape[0]):\n",
    "        terr = terr + np.sum(np.square(tree.predict(trainX[i]) - trainY[i]))\n",
    "    print('terr')\n",
    "    print(terr)\n",
    "    train_error.append(terr)\n",
    "    for i in range(validX.shape[0]):\n",
    "        verr = np.sum(np.square(tree.predict(validX[i]) - validY[i]))\n",
    "    valid_error.append(verr)\n"
   ]
  },
  {
   "cell_type": "code",
   "execution_count": 316,
   "metadata": {
    "collapsed": false
   },
   "outputs": [
    {
     "data": {
      "text/plain": [
       "[]"
      ]
     },
     "execution_count": 316,
     "metadata": {},
     "output_type": "execute_result"
    }
   ],
   "source": [
    "train_error"
   ]
  },
  {
   "cell_type": "code",
   "execution_count": 196,
   "metadata": {
    "collapsed": true
   },
   "outputs": [],
   "source": [
    "### Spam\n",
    "spam = loadmat(\"dist/spam_data.mat\")\n",
    "spam_train_data = spam.get('training_data')\n",
    "spam_train_labels = spam.get('training_labels')\n",
    "spam_test_data = spam.get('test_data')\n",
    "\n",
    "\n",
    "\n",
    "\n"
   ]
  },
  {
   "cell_type": "code",
   "execution_count": 213,
   "metadata": {
    "collapsed": false
   },
   "outputs": [
    {
     "data": {
      "text/plain": [
       "(1000, 904)"
      ]
     },
     "execution_count": 213,
     "metadata": {},
     "output_type": "execute_result"
    }
   ],
   "source": [
    "# Titanic\n",
    "with open('hw5_titanic_dist/titanic_training.csv') as f:\n",
    "    reader = csv.DictReader(f)\n",
    "    rows = list(reader)\n",
    "\n",
    "titanic_continuous = ['age', 'fare', 'parch', 'pclass', 'sibsp']\n",
    "y = []\n",
    "mode = modeFinder('hw5_titanic_dist/titanic_training.csv')\n",
    "\n",
    "for row in rows:\n",
    "    for key, value in row.items():\n",
    "        if value is \"\":\n",
    "            row[key] = mode[key]\n",
    "    for label in titanic_continuous:\n",
    "        row[label] = float(row[label])\n",
    "    y.append(row.get('survived'))\n",
    "    del row['survived']\n",
    "\n",
    "vec = DictVectorizer(dtype = int)\n",
    "X = vec.fit_transform(rows).toarray()\n",
    "cols = vec.get_feature_names()\n",
    "# may need to convert y to int\n",
    "X.shape\n",
    "\n",
    "X.train = "
   ]
  },
  {
   "cell_type": "markdown",
   "metadata": {},
   "source": [
    "# 3. \n",
    "A. I used dictVectorizer to convert categorical features into one-hot dummies. To deal with missing values, I imputed with the mode.\n",
    "\n",
    "B. As stopping criteria, I set a max depth that the tree could grow or stopped if the tree only contained labels of one category. \n",
    "\n",
    "C. Yes, I created a boolean array called catQuant that is passed through the growTree function that informs the function whether each variable is categorical or quantitative. Thus I only need to detect categorical vs quantitative variables once at the start of training. \n",
    "\n",
    "D. Random forests were implemented by first adding a boolean variable randomSubset to methods in the Tree class, which, if true, instructs the split finding function of growTree to only use a subset of columns for splitting. Then, a simple wrapper was added that grows trees on subsets of the data and stores the forest as a list of trees. \n",
    "\n",
    "E. I think the modefinder is pretty cool! It is an imputation helper that reads the data and finds the mode values for each column, which are returned as a dictionary{variable:modevalue}. This lets me use my existing dictionary-based data preprocessing framework to also easily impute values. "
   ]
  },
  {
   "cell_type": "code",
   "execution_count": 212,
   "metadata": {
    "collapsed": false
   },
   "outputs": [
    {
     "ename": "SyntaxError",
     "evalue": "invalid syntax (<ipython-input-212-ab894d1e86a3>, line 3)",
     "output_type": "error",
     "traceback": [
      "\u001b[0;36m  File \u001b[0;32m\"<ipython-input-212-ab894d1e86a3>\"\u001b[0;36m, line \u001b[0;32m3\u001b[0m\n\u001b[0;31m    x[!1]\u001b[0m\n\u001b[0m      ^\u001b[0m\n\u001b[0;31mSyntaxError\u001b[0m\u001b[0;31m:\u001b[0m invalid syntax\n"
     ]
    }
   ],
   "source": [
    "x = np.array([0, 1, 2, 3])\n"
   ]
  },
  {
   "cell_type": "code",
   "execution_count": 385,
   "metadata": {
    "collapsed": false
   },
   "outputs": [
    {
     "data": {
      "text/plain": [
       "True"
      ]
     },
     "execution_count": 385,
     "metadata": {},
     "output_type": "execute_result"
    }
   ],
   "source": [
    "0 == 0."
   ]
  },
  {
   "cell_type": "code",
   "execution_count": null,
   "metadata": {
    "collapsed": true
   },
   "outputs": [],
   "source": []
  }
 ],
 "metadata": {
  "anaconda-cloud": {},
  "kernelspec": {
   "display_name": "Python [conda root]",
   "language": "python",
   "name": "conda-root-py"
  },
  "language_info": {
   "codemirror_mode": {
    "name": "ipython",
    "version": 3
   },
   "file_extension": ".py",
   "mimetype": "text/x-python",
   "name": "python",
   "nbconvert_exporter": "python",
   "pygments_lexer": "ipython3",
   "version": "3.5.2"
  }
 },
 "nbformat": 4,
 "nbformat_minor": 1
}
