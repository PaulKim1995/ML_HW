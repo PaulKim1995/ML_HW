{
 "cells": [
  {
   "cell_type": "code",
   "execution_count": 8,
   "metadata": {
    "collapsed": true
   },
   "outputs": [],
   "source": [
    "import numpy as np"
   ]
  },
  {
   "cell_type": "code",
   "execution_count": null,
   "metadata": {
    "collapsed": true
   },
   "outputs": [],
   "source": [
    "############## Decision Tree Implementation ############\n",
    "class Node:\n",
    "    def __init__(self, j, beta, isLeaf, C, leftChild, rightChild):\n",
    "        self.J = j\n",
    "        self.beta = beta\n",
    "        self.isLeaf = isLeaf\n",
    "        self.C = C\n",
    "        self.leftChild = leftChild\n",
    "        self.rightChild = rightChild\n",
    "    \n",
    "    def predict(X):\n",
    "        if isLeaf:\n",
    "            return C\n",
    "        else if self.leftChild.rule(X):\n",
    "            return self.leftChild.predict(X)\n",
    "        else:\n",
    "            return self.rightChild.predict(X)\n",
    "\n",
    "class Tree:\n",
    "    def init__(self, X, y):\n",
    "        self.X = X\n",
    "        self.y = y\n",
    "        self.catQuant = cQ(X) # cQ determines whether each column in X is cat or quant\n",
    "        self.root = growTree(X, y, self.catQuant) \n",
    "        \n",
    "    def growTree(X, y, catQuant):\n",
    "        if False: #placeholder, until stopping criterion reached\n",
    "            return Node(None, None, True, np.rint(np.mean(y)), None, None) #returns a leaf\n",
    "        else:\n",
    "            # rule = best splitting function\n",
    "            # SlX = which statement\n",
    "            # SlY = which statement\n",
    "            # SrX = which statement\n",
    "            # SrY = which statement\n",
    "            return Node(j, beta, False, np.rint(np.mean(y)), growTree(SlX, SlY, catQuant), growTree(SrX, SrY, catQuant))\n",
    "    \n",
    "    def findSplit(X, y, catQuant):\n",
    "        minCost = None\n",
    "        j = None\n",
    "        beta = None\n",
    "        \n",
    "        for: # column in X\n",
    "            if catQuant: # if categorical variable\n",
    "                if minCost == None or J(X, y, j, 0.5) < minCost: # fix j\n",
    "                    j = # column in X\n",
    "                    minCost = J(X, y, j, 0.5) # fix J\n",
    "            else: \n",
    "                # This part is harder. \n",
    "                # First we have to sort the list according to the parameter\n",
    "                # Then we have to step through the list, calculating J for each break\n",
    "                # And setting to minJ and splitRule where applicable\n",
    "        \n",
    "        return j, beta\n",
    "    \n",
    "    def J(X, y, j, beta): # returns cost\n",
    "        # SlX = which statement\n",
    "        # SlY = which statement\n",
    "        # SrX = which statement\n",
    "        # SrY = which statement\n",
    "        a = SlX.shape[0] * H(SlY)\n",
    "        b = SrX.shape[0] * H(SrY)\n",
    "        c = SlX.shape[0] + SrX.shape[0]\n",
    "        return (a + b) / c\n",
    "    \n",
    "    def H(y): # returns H\n",
    "        p1 = np.sum(y) / y.size\n",
    "        p0 = 1 - p1\n",
    "        return -((p0 * np.log2(p0)) + (p1 * np.log2(p1)))\n",
    "    \n",
    "    def cQ(X):\n",
    "        returnAr = []\n",
    "        for i in X.T:\n",
    "            \n",
    "            \n",
    "        \n",
    "        \n",
    "    "
   ]
  },
  {
   "cell_type": "code",
   "execution_count": 10,
   "metadata": {
    "collapsed": false
   },
   "outputs": [],
   "source": [
    "x = np.array((0, 0, 0))"
   ]
  },
  {
   "cell_type": "code",
   "execution_count": 12,
   "metadata": {
    "collapsed": false
   },
   "outputs": [
    {
     "data": {
      "text/plain": [
       "3"
      ]
     },
     "execution_count": 12,
     "metadata": {},
     "output_type": "execute_result"
    }
   ],
   "source": [
    "x.size"
   ]
  },
  {
   "cell_type": "code",
   "execution_count": null,
   "metadata": {
    "collapsed": true
   },
   "outputs": [],
   "source": []
  }
 ],
 "metadata": {
  "anaconda-cloud": {},
  "kernelspec": {
   "display_name": "Python [conda root]",
   "language": "python",
   "name": "conda-root-py"
  },
  "language_info": {
   "codemirror_mode": {
    "name": "ipython",
    "version": 3
   },
   "file_extension": ".py",
   "mimetype": "text/x-python",
   "name": "python",
   "nbconvert_exporter": "python",
   "pygments_lexer": "ipython3",
   "version": "3.5.2"
  }
 },
 "nbformat": 4,
 "nbformat_minor": 1
}
